{
  "nbformat": 4,
  "nbformat_minor": 0,
  "metadata": {
    "colab": {
      "name": "Codepth_M_Project.ipynb",
      "provenance": [],
      "collapsed_sections": []
    },
    "kernelspec": {
      "name": "python3",
      "display_name": "Python 3"
    }
  },
  "cells": [
    {
      "cell_type": "markdown",
      "metadata": {
        "id": "Fmaoq4FrE9ow",
        "colab_type": "text"
      },
      "source": [
        "#**Data analysis and Preprocessing:**\n",
        "I'll first be checking what's in the file, how are the dataset being made and how to implement the knowledge to find the result."
      ]
    },
    {
      "cell_type": "code",
      "metadata": {
        "id": "y4RHVK93GADf",
        "colab_type": "code",
        "colab": {}
      },
      "source": [
        "import pandas as pd\n",
        "import pylab as pl\n",
        "import numpy as np\n",
        "import scipy.optimize as opt\n",
        "from sklearn import preprocessing\n",
        "%matplotlib inline \n",
        "import matplotlib.pyplot as plt"
      ],
      "execution_count": 199,
      "outputs": []
    },
    {
      "cell_type": "code",
      "metadata": {
        "id": "iF5Nt8w3GQOg",
        "colab_type": "code",
        "colab": {
          "base_uri": "https://localhost:8080/",
          "height": 399
        },
        "outputId": "ab3370da-cd1c-44e5-b17a-8ab271fb87d9"
      },
      "source": [
        "!wget -O ExistingEmpData.csv https://raw.githubusercontent.com/sdikshant89/Minor_Proj_Codepth/master/Existing%20employees.csv\n",
        "!wget -O LeftEmpData.csv https://raw.githubusercontent.com/sdikshant89/Minor_Proj_Codepth/master/Employees%20left.csv"
      ],
      "execution_count": 200,
      "outputs": [
        {
          "output_type": "stream",
          "text": [
            "--2020-06-23 11:16:48--  https://raw.githubusercontent.com/sdikshant89/Minor_Proj_Codepth/master/Existing%20employees.csv\n",
            "Resolving raw.githubusercontent.com (raw.githubusercontent.com)... 151.101.0.133, 151.101.64.133, 151.101.128.133, ...\n",
            "Connecting to raw.githubusercontent.com (raw.githubusercontent.com)|151.101.0.133|:443... connected.\n",
            "HTTP request sent, awaiting response... 200 OK\n",
            "Length: 470984 (460K) [text/plain]\n",
            "Saving to: ‘ExistingEmpData.csv’\n",
            "\n",
            "\rExistingEmpData.csv   0%[                    ]       0  --.-KB/s               \rExistingEmpData.csv 100%[===================>] 459.95K  --.-KB/s    in 0.06s   \n",
            "\n",
            "2020-06-23 11:16:48 (6.93 MB/s) - ‘ExistingEmpData.csv’ saved [470984/470984]\n",
            "\n",
            "--2020-06-23 11:16:50--  https://raw.githubusercontent.com/sdikshant89/Minor_Proj_Codepth/master/Employees%20left.csv\n",
            "Resolving raw.githubusercontent.com (raw.githubusercontent.com)... 151.101.0.133, 151.101.64.133, 151.101.128.133, ...\n",
            "Connecting to raw.githubusercontent.com (raw.githubusercontent.com)|151.101.0.133|:443... connected.\n",
            "HTTP request sent, awaiting response... 200 OK\n",
            "Length: 144829 (141K) [text/plain]\n",
            "Saving to: ‘LeftEmpData.csv’\n",
            "\n",
            "LeftEmpData.csv     100%[===================>] 141.43K  --.-KB/s    in 0.04s   \n",
            "\n",
            "2020-06-23 11:16:50 (3.36 MB/s) - ‘LeftEmpData.csv’ saved [144829/144829]\n",
            "\n"
          ],
          "name": "stdout"
        }
      ]
    },
    {
      "cell_type": "code",
      "metadata": {
        "id": "fEFc0gluG3y7",
        "colab_type": "code",
        "colab": {}
      },
      "source": [
        "exist_df = pd.read_csv(\"ExistingEmpData.csv\")\n",
        "left_df = pd.read_csv(\"LeftEmpData.csv\")"
      ],
      "execution_count": 201,
      "outputs": []
    },
    {
      "cell_type": "code",
      "metadata": {
        "id": "b0C3yv59Hbe4",
        "colab_type": "code",
        "colab": {
          "base_uri": "https://localhost:8080/",
          "height": 239
        },
        "outputId": "098787ef-dbcc-41f9-fa95-1ff63518880e"
      },
      "source": [
        "exist_df.head()"
      ],
      "execution_count": 202,
      "outputs": [
        {
          "output_type": "execute_result",
          "data": {
            "text/html": [
              "<div>\n",
              "<style scoped>\n",
              "    .dataframe tbody tr th:only-of-type {\n",
              "        vertical-align: middle;\n",
              "    }\n",
              "\n",
              "    .dataframe tbody tr th {\n",
              "        vertical-align: top;\n",
              "    }\n",
              "\n",
              "    .dataframe thead th {\n",
              "        text-align: right;\n",
              "    }\n",
              "</style>\n",
              "<table border=\"1\" class=\"dataframe\">\n",
              "  <thead>\n",
              "    <tr style=\"text-align: right;\">\n",
              "      <th></th>\n",
              "      <th>Emp ID</th>\n",
              "      <th>satisfaction_level</th>\n",
              "      <th>last_evaluation</th>\n",
              "      <th>number_project</th>\n",
              "      <th>average_montly_hours</th>\n",
              "      <th>time_spend_company</th>\n",
              "      <th>Work_accident</th>\n",
              "      <th>promotion_last_5years</th>\n",
              "      <th>dept</th>\n",
              "      <th>salary</th>\n",
              "    </tr>\n",
              "  </thead>\n",
              "  <tbody>\n",
              "    <tr>\n",
              "      <th>0</th>\n",
              "      <td>2001</td>\n",
              "      <td>0.58</td>\n",
              "      <td>0.74</td>\n",
              "      <td>4</td>\n",
              "      <td>215</td>\n",
              "      <td>3</td>\n",
              "      <td>0</td>\n",
              "      <td>0</td>\n",
              "      <td>sales</td>\n",
              "      <td>low</td>\n",
              "    </tr>\n",
              "    <tr>\n",
              "      <th>1</th>\n",
              "      <td>2002</td>\n",
              "      <td>0.82</td>\n",
              "      <td>0.67</td>\n",
              "      <td>2</td>\n",
              "      <td>202</td>\n",
              "      <td>3</td>\n",
              "      <td>0</td>\n",
              "      <td>0</td>\n",
              "      <td>sales</td>\n",
              "      <td>low</td>\n",
              "    </tr>\n",
              "    <tr>\n",
              "      <th>2</th>\n",
              "      <td>2003</td>\n",
              "      <td>0.45</td>\n",
              "      <td>0.69</td>\n",
              "      <td>5</td>\n",
              "      <td>193</td>\n",
              "      <td>3</td>\n",
              "      <td>0</td>\n",
              "      <td>0</td>\n",
              "      <td>sales</td>\n",
              "      <td>low</td>\n",
              "    </tr>\n",
              "    <tr>\n",
              "      <th>3</th>\n",
              "      <td>2004</td>\n",
              "      <td>0.78</td>\n",
              "      <td>0.82</td>\n",
              "      <td>5</td>\n",
              "      <td>247</td>\n",
              "      <td>3</td>\n",
              "      <td>0</td>\n",
              "      <td>0</td>\n",
              "      <td>sales</td>\n",
              "      <td>low</td>\n",
              "    </tr>\n",
              "    <tr>\n",
              "      <th>4</th>\n",
              "      <td>2005</td>\n",
              "      <td>0.49</td>\n",
              "      <td>0.60</td>\n",
              "      <td>3</td>\n",
              "      <td>214</td>\n",
              "      <td>2</td>\n",
              "      <td>0</td>\n",
              "      <td>0</td>\n",
              "      <td>sales</td>\n",
              "      <td>low</td>\n",
              "    </tr>\n",
              "  </tbody>\n",
              "</table>\n",
              "</div>"
            ],
            "text/plain": [
              "   Emp ID  satisfaction_level  ...   dept  salary\n",
              "0    2001                0.58  ...  sales     low\n",
              "1    2002                0.82  ...  sales     low\n",
              "2    2003                0.45  ...  sales     low\n",
              "3    2004                0.78  ...  sales     low\n",
              "4    2005                0.49  ...  sales     low\n",
              "\n",
              "[5 rows x 10 columns]"
            ]
          },
          "metadata": {
            "tags": []
          },
          "execution_count": 202
        }
      ]
    },
    {
      "cell_type": "code",
      "metadata": {
        "id": "CcQtDqWUHerM",
        "colab_type": "code",
        "colab": {
          "base_uri": "https://localhost:8080/",
          "height": 239
        },
        "outputId": "87ad7d44-4147-4662-db2c-0f787fc20545"
      },
      "source": [
        "left_df.head()"
      ],
      "execution_count": 203,
      "outputs": [
        {
          "output_type": "execute_result",
          "data": {
            "text/html": [
              "<div>\n",
              "<style scoped>\n",
              "    .dataframe tbody tr th:only-of-type {\n",
              "        vertical-align: middle;\n",
              "    }\n",
              "\n",
              "    .dataframe tbody tr th {\n",
              "        vertical-align: top;\n",
              "    }\n",
              "\n",
              "    .dataframe thead th {\n",
              "        text-align: right;\n",
              "    }\n",
              "</style>\n",
              "<table border=\"1\" class=\"dataframe\">\n",
              "  <thead>\n",
              "    <tr style=\"text-align: right;\">\n",
              "      <th></th>\n",
              "      <th>Emp ID</th>\n",
              "      <th>satisfaction_level</th>\n",
              "      <th>last_evaluation</th>\n",
              "      <th>number_project</th>\n",
              "      <th>average_montly_hours</th>\n",
              "      <th>time_spend_company</th>\n",
              "      <th>Work_accident</th>\n",
              "      <th>promotion_last_5years</th>\n",
              "      <th>dept</th>\n",
              "      <th>salary</th>\n",
              "    </tr>\n",
              "  </thead>\n",
              "  <tbody>\n",
              "    <tr>\n",
              "      <th>0</th>\n",
              "      <td>1</td>\n",
              "      <td>0.38</td>\n",
              "      <td>0.53</td>\n",
              "      <td>2</td>\n",
              "      <td>157</td>\n",
              "      <td>3</td>\n",
              "      <td>0</td>\n",
              "      <td>0</td>\n",
              "      <td>sales</td>\n",
              "      <td>low</td>\n",
              "    </tr>\n",
              "    <tr>\n",
              "      <th>1</th>\n",
              "      <td>2</td>\n",
              "      <td>0.80</td>\n",
              "      <td>0.86</td>\n",
              "      <td>5</td>\n",
              "      <td>262</td>\n",
              "      <td>6</td>\n",
              "      <td>0</td>\n",
              "      <td>0</td>\n",
              "      <td>sales</td>\n",
              "      <td>medium</td>\n",
              "    </tr>\n",
              "    <tr>\n",
              "      <th>2</th>\n",
              "      <td>3</td>\n",
              "      <td>0.11</td>\n",
              "      <td>0.88</td>\n",
              "      <td>7</td>\n",
              "      <td>272</td>\n",
              "      <td>4</td>\n",
              "      <td>0</td>\n",
              "      <td>0</td>\n",
              "      <td>sales</td>\n",
              "      <td>medium</td>\n",
              "    </tr>\n",
              "    <tr>\n",
              "      <th>3</th>\n",
              "      <td>4</td>\n",
              "      <td>0.72</td>\n",
              "      <td>0.87</td>\n",
              "      <td>5</td>\n",
              "      <td>223</td>\n",
              "      <td>5</td>\n",
              "      <td>0</td>\n",
              "      <td>0</td>\n",
              "      <td>sales</td>\n",
              "      <td>low</td>\n",
              "    </tr>\n",
              "    <tr>\n",
              "      <th>4</th>\n",
              "      <td>5</td>\n",
              "      <td>0.37</td>\n",
              "      <td>0.52</td>\n",
              "      <td>2</td>\n",
              "      <td>159</td>\n",
              "      <td>3</td>\n",
              "      <td>0</td>\n",
              "      <td>0</td>\n",
              "      <td>sales</td>\n",
              "      <td>low</td>\n",
              "    </tr>\n",
              "  </tbody>\n",
              "</table>\n",
              "</div>"
            ],
            "text/plain": [
              "   Emp ID  satisfaction_level  ...   dept  salary\n",
              "0       1                0.38  ...  sales     low\n",
              "1       2                0.80  ...  sales  medium\n",
              "2       3                0.11  ...  sales  medium\n",
              "3       4                0.72  ...  sales     low\n",
              "4       5                0.37  ...  sales     low\n",
              "\n",
              "[5 rows x 10 columns]"
            ]
          },
          "metadata": {
            "tags": []
          },
          "execution_count": 203
        }
      ]
    },
    {
      "cell_type": "code",
      "metadata": {
        "id": "9OZjMvKZHiL3",
        "colab_type": "code",
        "colab": {
          "base_uri": "https://localhost:8080/",
          "height": 52
        },
        "outputId": "1c29fde7-acb4-44a0-92cd-953cf49cdbea"
      },
      "source": [
        "exist_df[\"dept\"].unique()"
      ],
      "execution_count": 204,
      "outputs": [
        {
          "output_type": "execute_result",
          "data": {
            "text/plain": [
              "array(['sales', 'accounting', 'hr', 'technical', 'support', 'management',\n",
              "       'IT', 'product_mng', 'RandD', 'marketing'], dtype=object)"
            ]
          },
          "metadata": {
            "tags": []
          },
          "execution_count": 204
        }
      ]
    },
    {
      "cell_type": "code",
      "metadata": {
        "id": "f6PBRZJCS-fx",
        "colab_type": "code",
        "colab": {
          "base_uri": "https://localhost:8080/",
          "height": 208
        },
        "outputId": "94ccd805-904f-4d2d-8c8b-ec8a301a76b3"
      },
      "source": [
        "# checking the number of employees per department\n",
        "exist_df[\"dept\"].value_counts()"
      ],
      "execution_count": 205,
      "outputs": [
        {
          "output_type": "execute_result",
          "data": {
            "text/plain": [
              "sales          3126\n",
              "technical      2023\n",
              "support        1674\n",
              "IT              954\n",
              "product_mng     704\n",
              "RandD           666\n",
              "marketing       655\n",
              "accounting      563\n",
              "management      539\n",
              "hr              524\n",
              "Name: dept, dtype: int64"
            ]
          },
          "metadata": {
            "tags": []
          },
          "execution_count": 205
        }
      ]
    },
    {
      "cell_type": "code",
      "metadata": {
        "id": "e7Cb_V0ITi8V",
        "colab_type": "code",
        "colab": {
          "base_uri": "https://localhost:8080/",
          "height": 461
        },
        "outputId": "68dfb8f9-f472-4829-c5b9-533de9d8e753"
      },
      "source": [
        "exist_df[\"dept\"].value_counts().plot(kind='bar', figsize=(10, 6))\n",
        "#\n",
        "plt.xlabel('department') # add to x-label to the plot\n",
        "plt.ylabel('Number of employees') # add y-label to the plot\n",
        "plt.title('department Graph') # add title to the plot\n",
        "plt.show()"
      ],
      "execution_count": 206,
      "outputs": [
        {
          "output_type": "display_data",
          "data": {
            "image/png": "[encoded data removed]",
            "text/plain": [
              "<Figure size 720x432 with 1 Axes>"
            ]
          },
          "metadata": {
            "tags": [],
            "needs_background": "light"
          }
        }
      ]
    },
    {
      "cell_type": "code",
      "metadata": {
        "id": "nqvm1ACtT_zu",
        "colab_type": "code",
        "colab": {
          "base_uri": "https://localhost:8080/",
          "height": 208
        },
        "outputId": "49edb98c-a891-4d48-a491-e96496790e52"
      },
      "source": [
        "# checking the number of employees per department\n",
        "left_df[\"dept\"].value_counts()"
      ],
      "execution_count": 207,
      "outputs": [
        {
          "output_type": "execute_result",
          "data": {
            "text/plain": [
              "sales          1014\n",
              "technical       697\n",
              "support         555\n",
              "IT              273\n",
              "hr              215\n",
              "accounting      204\n",
              "marketing       203\n",
              "product_mng     198\n",
              "RandD           121\n",
              "management       91\n",
              "Name: dept, dtype: int64"
            ]
          },
          "metadata": {
            "tags": []
          },
          "execution_count": 207
        }
      ]
    },
    {
      "cell_type": "code",
      "metadata": {
        "id": "jWAAP3DAUEw9",
        "colab_type": "code",
        "colab": {
          "base_uri": "https://localhost:8080/",
          "height": 461
        },
        "outputId": "be0f5d77-7ae6-4bc4-d765-f04cfc7508d8"
      },
      "source": [
        "left_df[\"dept\"].value_counts().plot(kind='bar', figsize=(10, 6))\n",
        "plt.xlabel('department') # add to x-label to the plot\n",
        "plt.ylabel('Number of employees') # add y-label to the plot\n",
        "plt.title('left employees department Graph') # add title to the plot\n",
        "plt.show()"
      ],
      "execution_count": 208,
      "outputs": [
        {
          "output_type": "display_data",
          "data": {
            "image/png": "[encoded data removed]",
            "text/plain": [
              "<Figure size 720x432 with 1 Axes>"
            ]
          },
          "metadata": {
            "tags": [],
            "needs_background": "light"
          }
        }
      ]
    },
    {
      "cell_type": "code",
      "metadata": {
        "id": "_pXyrrYcIUfv",
        "colab_type": "code",
        "colab": {
          "base_uri": "https://localhost:8080/",
          "height": 52
        },
        "outputId": "a97f1d2b-cdee-4560-8bad-781fea89e91c"
      },
      "source": [
        "left_df[\"dept\"].unique()"
      ],
      "execution_count": 209,
      "outputs": [
        {
          "output_type": "execute_result",
          "data": {
            "text/plain": [
              "array(['sales', 'accounting', 'hr', 'technical', 'support', 'management',\n",
              "       'IT', 'product_mng', 'marketing', 'RandD'], dtype=object)"
            ]
          },
          "metadata": {
            "tags": []
          },
          "execution_count": 209
        }
      ]
    },
    {
      "cell_type": "markdown",
      "metadata": {
        "id": "cdT2XeSOIk-C",
        "colab_type": "text"
      },
      "source": [
        "**In the above code(using the left employee dataframe) we get to know that there isn't any ONE type of department where the company is firing its employees**"
      ]
    },
    {
      "cell_type": "code",
      "metadata": {
        "id": "CxniKoZBIzOD",
        "colab_type": "code",
        "colab": {
          "base_uri": "https://localhost:8080/",
          "height": 208
        },
        "outputId": "d8e3a615-fbc1-41ae-bb57-71c873ca6ceb"
      },
      "source": [
        "total_rows = exist_df.count()\n",
        "print(total_rows)"
      ],
      "execution_count": 210,
      "outputs": [
        {
          "output_type": "stream",
          "text": [
            "Emp ID                   11428\n",
            "satisfaction_level       11428\n",
            "last_evaluation          11428\n",
            "number_project           11428\n",
            "average_montly_hours     11428\n",
            "time_spend_company       11428\n",
            "Work_accident            11428\n",
            "promotion_last_5years    11428\n",
            "dept                     11428\n",
            "salary                   11428\n",
            "dtype: int64\n"
          ],
          "name": "stdout"
        }
      ]
    },
    {
      "cell_type": "code",
      "metadata": {
        "id": "1U3t3M1RLHoG",
        "colab_type": "code",
        "colab": {
          "base_uri": "https://localhost:8080/",
          "height": 35
        },
        "outputId": "95c4e7f6-fc15-4055-b20a-084c35a15f0e"
      },
      "source": [
        "exist_df.shape"
      ],
      "execution_count": 211,
      "outputs": [
        {
          "output_type": "execute_result",
          "data": {
            "text/plain": [
              "(11428, 10)"
            ]
          },
          "metadata": {
            "tags": []
          },
          "execution_count": 211
        }
      ]
    },
    {
      "cell_type": "code",
      "metadata": {
        "id": "Mfrqjj2PL0OX",
        "colab_type": "code",
        "colab": {}
      },
      "source": [
        "status = [1]*11428"
      ],
      "execution_count": 212,
      "outputs": []
    },
    {
      "cell_type": "code",
      "metadata": {
        "id": "FoMc93I3M5UH",
        "colab_type": "code",
        "colab": {}
      },
      "source": [
        "exist_df['Status'] = status"
      ],
      "execution_count": 213,
      "outputs": []
    },
    {
      "cell_type": "markdown",
      "metadata": {
        "id": "A13RIjFqNR8q",
        "colab_type": "text"
      },
      "source": [
        "**Here I made another column to the table of employees existing in the company(with the status of whether they are in the company or not(values = 1(true) that means they aren't fired))**\n",
        "\n",
        "**Similarly we'll be doing it with the table of employees which are being fired(here we'll assign the value 0(false) that means they are no longer in the company and are fired)**"
      ]
    },
    {
      "cell_type": "code",
      "metadata": {
        "id": "Zz40hVpeONA1",
        "colab_type": "code",
        "colab": {
          "base_uri": "https://localhost:8080/",
          "height": 35
        },
        "outputId": "c8245e36-c386-4510-99c4-a12e4b86c7d7"
      },
      "source": [
        "left_df.shape"
      ],
      "execution_count": 214,
      "outputs": [
        {
          "output_type": "execute_result",
          "data": {
            "text/plain": [
              "(3571, 10)"
            ]
          },
          "metadata": {
            "tags": []
          },
          "execution_count": 214
        }
      ]
    },
    {
      "cell_type": "code",
      "metadata": {
        "id": "snxLH5dZOSCf",
        "colab_type": "code",
        "colab": {}
      },
      "source": [
        "status_left = [0]*3571"
      ],
      "execution_count": 215,
      "outputs": []
    },
    {
      "cell_type": "code",
      "metadata": {
        "id": "u0Ow7IfxOgqq",
        "colab_type": "code",
        "colab": {}
      },
      "source": [
        "left_df['Status'] = status_left"
      ],
      "execution_count": 216,
      "outputs": []
    },
    {
      "cell_type": "code",
      "metadata": {
        "id": "8VEJIDvXOrX9",
        "colab_type": "code",
        "colab": {
          "base_uri": "https://localhost:8080/",
          "height": 239
        },
        "outputId": "c0ab8cda-c8cb-4edf-c8cc-89e40bf5cc53"
      },
      "source": [
        "left_df.head()"
      ],
      "execution_count": 217,
      "outputs": [
        {
          "output_type": "execute_result",
          "data": {
            "text/html": [
              "<div>\n",
              "<style scoped>\n",
              "    .dataframe tbody tr th:only-of-type {\n",
              "        vertical-align: middle;\n",
              "    }\n",
              "\n",
              "    .dataframe tbody tr th {\n",
              "        vertical-align: top;\n",
              "    }\n",
              "\n",
              "    .dataframe thead th {\n",
              "        text-align: right;\n",
              "    }\n",
              "</style>\n",
              "<table border=\"1\" class=\"dataframe\">\n",
              "  <thead>\n",
              "    <tr style=\"text-align: right;\">\n",
              "      <th></th>\n",
              "      <th>Emp ID</th>\n",
              "      <th>satisfaction_level</th>\n",
              "      <th>last_evaluation</th>\n",
              "      <th>number_project</th>\n",
              "      <th>average_montly_hours</th>\n",
              "      <th>time_spend_company</th>\n",
              "      <th>Work_accident</th>\n",
              "      <th>promotion_last_5years</th>\n",
              "      <th>dept</th>\n",
              "      <th>salary</th>\n",
              "      <th>Status</th>\n",
              "    </tr>\n",
              "  </thead>\n",
              "  <tbody>\n",
              "    <tr>\n",
              "      <th>0</th>\n",
              "      <td>1</td>\n",
              "      <td>0.38</td>\n",
              "      <td>0.53</td>\n",
              "      <td>2</td>\n",
              "      <td>157</td>\n",
              "      <td>3</td>\n",
              "      <td>0</td>\n",
              "      <td>0</td>\n",
              "      <td>sales</td>\n",
              "      <td>low</td>\n",
              "      <td>0</td>\n",
              "    </tr>\n",
              "    <tr>\n",
              "      <th>1</th>\n",
              "      <td>2</td>\n",
              "      <td>0.80</td>\n",
              "      <td>0.86</td>\n",
              "      <td>5</td>\n",
              "      <td>262</td>\n",
              "      <td>6</td>\n",
              "      <td>0</td>\n",
              "      <td>0</td>\n",
              "      <td>sales</td>\n",
              "      <td>medium</td>\n",
              "      <td>0</td>\n",
              "    </tr>\n",
              "    <tr>\n",
              "      <th>2</th>\n",
              "      <td>3</td>\n",
              "      <td>0.11</td>\n",
              "      <td>0.88</td>\n",
              "      <td>7</td>\n",
              "      <td>272</td>\n",
              "      <td>4</td>\n",
              "      <td>0</td>\n",
              "      <td>0</td>\n",
              "      <td>sales</td>\n",
              "      <td>medium</td>\n",
              "      <td>0</td>\n",
              "    </tr>\n",
              "    <tr>\n",
              "      <th>3</th>\n",
              "      <td>4</td>\n",
              "      <td>0.72</td>\n",
              "      <td>0.87</td>\n",
              "      <td>5</td>\n",
              "      <td>223</td>\n",
              "      <td>5</td>\n",
              "      <td>0</td>\n",
              "      <td>0</td>\n",
              "      <td>sales</td>\n",
              "      <td>low</td>\n",
              "      <td>0</td>\n",
              "    </tr>\n",
              "    <tr>\n",
              "      <th>4</th>\n",
              "      <td>5</td>\n",
              "      <td>0.37</td>\n",
              "      <td>0.52</td>\n",
              "      <td>2</td>\n",
              "      <td>159</td>\n",
              "      <td>3</td>\n",
              "      <td>0</td>\n",
              "      <td>0</td>\n",
              "      <td>sales</td>\n",
              "      <td>low</td>\n",
              "      <td>0</td>\n",
              "    </tr>\n",
              "  </tbody>\n",
              "</table>\n",
              "</div>"
            ],
            "text/plain": [
              "   Emp ID  satisfaction_level  last_evaluation  ...   dept  salary  Status\n",
              "0       1                0.38             0.53  ...  sales     low       0\n",
              "1       2                0.80             0.86  ...  sales  medium       0\n",
              "2       3                0.11             0.88  ...  sales  medium       0\n",
              "3       4                0.72             0.87  ...  sales     low       0\n",
              "4       5                0.37             0.52  ...  sales     low       0\n",
              "\n",
              "[5 rows x 11 columns]"
            ]
          },
          "metadata": {
            "tags": []
          },
          "execution_count": 217
        }
      ]
    },
    {
      "cell_type": "code",
      "metadata": {
        "id": "nobrb57COu3P",
        "colab_type": "code",
        "colab": {
          "base_uri": "https://localhost:8080/",
          "height": 239
        },
        "outputId": "e7db1cd7-98a9-42d8-aba9-7f6b9be22a2b"
      },
      "source": [
        "exist_df.head()"
      ],
      "execution_count": 218,
      "outputs": [
        {
          "output_type": "execute_result",
          "data": {
            "text/html": [
              "<div>\n",
              "<style scoped>\n",
              "    .dataframe tbody tr th:only-of-type {\n",
              "        vertical-align: middle;\n",
              "    }\n",
              "\n",
              "    .dataframe tbody tr th {\n",
              "        vertical-align: top;\n",
              "    }\n",
              "\n",
              "    .dataframe thead th {\n",
              "        text-align: right;\n",
              "    }\n",
              "</style>\n",
              "<table border=\"1\" class=\"dataframe\">\n",
              "  <thead>\n",
              "    <tr style=\"text-align: right;\">\n",
              "      <th></th>\n",
              "      <th>Emp ID</th>\n",
              "      <th>satisfaction_level</th>\n",
              "      <th>last_evaluation</th>\n",
              "      <th>number_project</th>\n",
              "      <th>average_montly_hours</th>\n",
              "      <th>time_spend_company</th>\n",
              "      <th>Work_accident</th>\n",
              "      <th>promotion_last_5years</th>\n",
              "      <th>dept</th>\n",
              "      <th>salary</th>\n",
              "      <th>Status</th>\n",
              "    </tr>\n",
              "  </thead>\n",
              "  <tbody>\n",
              "    <tr>\n",
              "      <th>0</th>\n",
              "      <td>2001</td>\n",
              "      <td>0.58</td>\n",
              "      <td>0.74</td>\n",
              "      <td>4</td>\n",
              "      <td>215</td>\n",
              "      <td>3</td>\n",
              "      <td>0</td>\n",
              "      <td>0</td>\n",
              "      <td>sales</td>\n",
              "      <td>low</td>\n",
              "      <td>1</td>\n",
              "    </tr>\n",
              "    <tr>\n",
              "      <th>1</th>\n",
              "      <td>2002</td>\n",
              "      <td>0.82</td>\n",
              "      <td>0.67</td>\n",
              "      <td>2</td>\n",
              "      <td>202</td>\n",
              "      <td>3</td>\n",
              "      <td>0</td>\n",
              "      <td>0</td>\n",
              "      <td>sales</td>\n",
              "      <td>low</td>\n",
              "      <td>1</td>\n",
              "    </tr>\n",
              "    <tr>\n",
              "      <th>2</th>\n",
              "      <td>2003</td>\n",
              "      <td>0.45</td>\n",
              "      <td>0.69</td>\n",
              "      <td>5</td>\n",
              "      <td>193</td>\n",
              "      <td>3</td>\n",
              "      <td>0</td>\n",
              "      <td>0</td>\n",
              "      <td>sales</td>\n",
              "      <td>low</td>\n",
              "      <td>1</td>\n",
              "    </tr>\n",
              "    <tr>\n",
              "      <th>3</th>\n",
              "      <td>2004</td>\n",
              "      <td>0.78</td>\n",
              "      <td>0.82</td>\n",
              "      <td>5</td>\n",
              "      <td>247</td>\n",
              "      <td>3</td>\n",
              "      <td>0</td>\n",
              "      <td>0</td>\n",
              "      <td>sales</td>\n",
              "      <td>low</td>\n",
              "      <td>1</td>\n",
              "    </tr>\n",
              "    <tr>\n",
              "      <th>4</th>\n",
              "      <td>2005</td>\n",
              "      <td>0.49</td>\n",
              "      <td>0.60</td>\n",
              "      <td>3</td>\n",
              "      <td>214</td>\n",
              "      <td>2</td>\n",
              "      <td>0</td>\n",
              "      <td>0</td>\n",
              "      <td>sales</td>\n",
              "      <td>low</td>\n",
              "      <td>1</td>\n",
              "    </tr>\n",
              "  </tbody>\n",
              "</table>\n",
              "</div>"
            ],
            "text/plain": [
              "   Emp ID  satisfaction_level  last_evaluation  ...   dept  salary  Status\n",
              "0    2001                0.58             0.74  ...  sales     low       1\n",
              "1    2002                0.82             0.67  ...  sales     low       1\n",
              "2    2003                0.45             0.69  ...  sales     low       1\n",
              "3    2004                0.78             0.82  ...  sales     low       1\n",
              "4    2005                0.49             0.60  ...  sales     low       1\n",
              "\n",
              "[5 rows x 11 columns]"
            ]
          },
          "metadata": {
            "tags": []
          },
          "execution_count": 218
        }
      ]
    },
    {
      "cell_type": "markdown",
      "metadata": {
        "id": "uOMuwE8DQvCf",
        "colab_type": "text"
      },
      "source": [
        "**Now we have to find what is/are the reasons because of which the people are leaving the organization. Thats why the two tables first have to be combined to form 1 database on which we'll be doing the operations.**\n",
        "\n",
        "**For the two different entries from both the table I assigned another table named \"Status\" which will be telling if the person left(value = 0) or is still working(value = 1)**"
      ]
    },
    {
      "cell_type": "code",
      "metadata": {
        "id": "OrHt3NPyShbn",
        "colab_type": "code",
        "colab": {
          "base_uri": "https://localhost:8080/",
          "height": 239
        },
        "outputId": "c42adff9-9bf6-4b30-e051-a7a3a6aa90e5"
      },
      "source": [
        "df = pd.concat([exist_df, left_df])\n",
        "df.head()"
      ],
      "execution_count": 219,
      "outputs": [
        {
          "output_type": "execute_result",
          "data": {
            "text/html": [
              "<div>\n",
              "<style scoped>\n",
              "    .dataframe tbody tr th:only-of-type {\n",
              "        vertical-align: middle;\n",
              "    }\n",
              "\n",
              "    .dataframe tbody tr th {\n",
              "        vertical-align: top;\n",
              "    }\n",
              "\n",
              "    .dataframe thead th {\n",
              "        text-align: right;\n",
              "    }\n",
              "</style>\n",
              "<table border=\"1\" class=\"dataframe\">\n",
              "  <thead>\n",
              "    <tr style=\"text-align: right;\">\n",
              "      <th></th>\n",
              "      <th>Emp ID</th>\n",
              "      <th>satisfaction_level</th>\n",
              "      <th>last_evaluation</th>\n",
              "      <th>number_project</th>\n",
              "      <th>average_montly_hours</th>\n",
              "      <th>time_spend_company</th>\n",
              "      <th>Work_accident</th>\n",
              "      <th>promotion_last_5years</th>\n",
              "      <th>dept</th>\n",
              "      <th>salary</th>\n",
              "      <th>Status</th>\n",
              "    </tr>\n",
              "  </thead>\n",
              "  <tbody>\n",
              "    <tr>\n",
              "      <th>0</th>\n",
              "      <td>2001</td>\n",
              "      <td>0.58</td>\n",
              "      <td>0.74</td>\n",
              "      <td>4</td>\n",
              "      <td>215</td>\n",
              "      <td>3</td>\n",
              "      <td>0</td>\n",
              "      <td>0</td>\n",
              "      <td>sales</td>\n",
              "      <td>low</td>\n",
              "      <td>1</td>\n",
              "    </tr>\n",
              "    <tr>\n",
              "      <th>1</th>\n",
              "      <td>2002</td>\n",
              "      <td>0.82</td>\n",
              "      <td>0.67</td>\n",
              "      <td>2</td>\n",
              "      <td>202</td>\n",
              "      <td>3</td>\n",
              "      <td>0</td>\n",
              "      <td>0</td>\n",
              "      <td>sales</td>\n",
              "      <td>low</td>\n",
              "      <td>1</td>\n",
              "    </tr>\n",
              "    <tr>\n",
              "      <th>2</th>\n",
              "      <td>2003</td>\n",
              "      <td>0.45</td>\n",
              "      <td>0.69</td>\n",
              "      <td>5</td>\n",
              "      <td>193</td>\n",
              "      <td>3</td>\n",
              "      <td>0</td>\n",
              "      <td>0</td>\n",
              "      <td>sales</td>\n",
              "      <td>low</td>\n",
              "      <td>1</td>\n",
              "    </tr>\n",
              "    <tr>\n",
              "      <th>3</th>\n",
              "      <td>2004</td>\n",
              "      <td>0.78</td>\n",
              "      <td>0.82</td>\n",
              "      <td>5</td>\n",
              "      <td>247</td>\n",
              "      <td>3</td>\n",
              "      <td>0</td>\n",
              "      <td>0</td>\n",
              "      <td>sales</td>\n",
              "      <td>low</td>\n",
              "      <td>1</td>\n",
              "    </tr>\n",
              "    <tr>\n",
              "      <th>4</th>\n",
              "      <td>2005</td>\n",
              "      <td>0.49</td>\n",
              "      <td>0.60</td>\n",
              "      <td>3</td>\n",
              "      <td>214</td>\n",
              "      <td>2</td>\n",
              "      <td>0</td>\n",
              "      <td>0</td>\n",
              "      <td>sales</td>\n",
              "      <td>low</td>\n",
              "      <td>1</td>\n",
              "    </tr>\n",
              "  </tbody>\n",
              "</table>\n",
              "</div>"
            ],
            "text/plain": [
              "   Emp ID  satisfaction_level  last_evaluation  ...   dept  salary  Status\n",
              "0    2001                0.58             0.74  ...  sales     low       1\n",
              "1    2002                0.82             0.67  ...  sales     low       1\n",
              "2    2003                0.45             0.69  ...  sales     low       1\n",
              "3    2004                0.78             0.82  ...  sales     low       1\n",
              "4    2005                0.49             0.60  ...  sales     low       1\n",
              "\n",
              "[5 rows x 11 columns]"
            ]
          },
          "metadata": {
            "tags": []
          },
          "execution_count": 219
        }
      ]
    },
    {
      "cell_type": "code",
      "metadata": {
        "id": "ovifSRtZi6Ve",
        "colab_type": "code",
        "colab": {
          "base_uri": "https://localhost:8080/",
          "height": 35
        },
        "outputId": "2f8de82b-ddfb-40c4-902b-7e44cbdf1297"
      },
      "source": [
        "df.shape"
      ],
      "execution_count": 220,
      "outputs": [
        {
          "output_type": "execute_result",
          "data": {
            "text/plain": [
              "(14999, 11)"
            ]
          },
          "metadata": {
            "tags": []
          },
          "execution_count": 220
        }
      ]
    },
    {
      "cell_type": "markdown",
      "metadata": {
        "id": "cxMqLUqYjPf5",
        "colab_type": "text"
      },
      "source": [
        "**So here I made the one dataframe we'll be working on which is \"df\" including rows/entries of both the tables**"
      ]
    },
    {
      "cell_type": "code",
      "metadata": {
        "id": "Pq5JY6GkjZqh",
        "colab_type": "code",
        "colab": {}
      },
      "source": [
        "cdf = df.sort_values(by = 'Emp ID', axis=0, ascending=True)"
      ],
      "execution_count": 221,
      "outputs": []
    },
    {
      "cell_type": "markdown",
      "metadata": {
        "id": "P8R5cKztl28v",
        "colab_type": "text"
      },
      "source": [
        "**Here we get our new dataframe sorted w.r.t Employee ID**"
      ]
    },
    {
      "cell_type": "code",
      "metadata": {
        "id": "Q9X-E5vClyUh",
        "colab_type": "code",
        "colab": {
          "base_uri": "https://localhost:8080/",
          "height": 35
        },
        "outputId": "0a19cdf6-fbe1-4087-8855-b0e7f9124339"
      },
      "source": [
        "cdf.isnull().sum().sum()"
      ],
      "execution_count": 222,
      "outputs": [
        {
          "output_type": "execute_result",
          "data": {
            "text/plain": [
              "0"
            ]
          },
          "metadata": {
            "tags": []
          },
          "execution_count": 222
        }
      ]
    },
    {
      "cell_type": "markdown",
      "metadata": {
        "id": "ZGUgV3x6nHju",
        "colab_type": "text"
      },
      "source": [
        "**We checked if there were any Na/NaN values in the dataset or not**"
      ]
    },
    {
      "cell_type": "code",
      "metadata": {
        "id": "FFdh29L3nFt_",
        "colab_type": "code",
        "colab": {
          "base_uri": "https://localhost:8080/",
          "height": 87
        },
        "outputId": "c1eb7b5b-c0b0-4172-dc22-085dd5626837"
      },
      "source": [
        "cdf[\"salary\"].value_counts()"
      ],
      "execution_count": 223,
      "outputs": [
        {
          "output_type": "execute_result",
          "data": {
            "text/plain": [
              "low       7316\n",
              "medium    6446\n",
              "high      1237\n",
              "Name: salary, dtype: int64"
            ]
          },
          "metadata": {
            "tags": []
          },
          "execution_count": 223
        }
      ]
    },
    {
      "cell_type": "markdown",
      "metadata": {
        "id": "4MNaQsO7VoMg",
        "colab_type": "text"
      },
      "source": [
        "#**Correlation:**\n",
        "So we've worked with our dataset, have seen what values does each column/attributes possess so now we'll have to make a model good/precise enough to predict if the other employees would leave the organization or not.\n",
        "\n",
        "So now to build a model we'll have to see the correlation between all the parameters(or attributes or columns) and the target variable i.e. status(which is '***1***' is the employee is still working and '***0***' if the employee left).\n",
        "\n",
        "while finding the correlation we'll be getting 2 values that are ***correlation coefficient ***and ***P-Value***. \n",
        "\n",
        "If the correlation coefficient value is close to:\n",
        "\n",
        "- **+1** (large positive correlation)\n",
        "- **-1** (large negative correlation)\n",
        "- **0** (no relationship)\n",
        "\n",
        "Similarly if the P-value is:\n",
        "\n",
        "- **<0.001** (strong certainty)\n",
        "- **<0.05** (moderate certainty)\n",
        "- **<0.1** (weak certainty)\n",
        "- **>0.1** (no certainty)"
      ]
    },
    {
      "cell_type": "code",
      "metadata": {
        "id": "kO3cJSTsonGp",
        "colab_type": "code",
        "colab": {}
      },
      "source": [
        "import scipy.stats"
      ],
      "execution_count": 224,
      "outputs": []
    },
    {
      "cell_type": "code",
      "metadata": {
        "id": "6ZrErn8OVnQw",
        "colab_type": "code",
        "colab": {
          "base_uri": "https://localhost:8080/",
          "height": 87
        },
        "outputId": "8970c65a-0877-444a-ac69-dc2df5bb168f"
      },
      "source": [
        "cdf.columns"
      ],
      "execution_count": 225,
      "outputs": [
        {
          "output_type": "execute_result",
          "data": {
            "text/plain": [
              "Index(['Emp ID', 'satisfaction_level', 'last_evaluation', 'number_project',\n",
              "       'average_montly_hours', 'time_spend_company', 'Work_accident',\n",
              "       'promotion_last_5years', 'dept', 'salary', 'Status'],\n",
              "      dtype='object')"
            ]
          },
          "metadata": {
            "tags": []
          },
          "execution_count": 225
        }
      ]
    },
    {
      "cell_type": "code",
      "metadata": {
        "id": "A6lwd-6NZ71B",
        "colab_type": "code",
        "colab": {
          "base_uri": "https://localhost:8080/",
          "height": 35
        },
        "outputId": "6b66162f-dcd5-4a33-af16-9d3ca7dae681"
      },
      "source": [
        "scipy.stats.pearsonr(cdf['satisfaction_level'], cdf['Status'])"
      ],
      "execution_count": 226,
      "outputs": [
        {
          "output_type": "execute_result",
          "data": {
            "text/plain": [
              "(0.38837498342411414, 0.0)"
            ]
          },
          "metadata": {
            "tags": []
          },
          "execution_count": 226
        }
      ]
    },
    {
      "cell_type": "code",
      "metadata": {
        "id": "qS-6X4YBaGFw",
        "colab_type": "code",
        "colab": {
          "base_uri": "https://localhost:8080/",
          "height": 35
        },
        "outputId": "d92ce90f-7f8e-4d85-cb4d-012415397bec"
      },
      "source": [
        "scipy.stats.pearsonr(cdf['last_evaluation'], cdf['Status'])"
      ],
      "execution_count": 227,
      "outputs": [
        {
          "output_type": "execute_result",
          "data": {
            "text/plain": [
              "(-0.006567120447534094, 0.4212701963736362)"
            ]
          },
          "metadata": {
            "tags": []
          },
          "execution_count": 227
        }
      ]
    },
    {
      "cell_type": "markdown",
      "metadata": {
        "id": "0VU3kEOUbUJh",
        "colab_type": "text"
      },
      "source": [
        "**here P-value is >0.1 i.e. there is no certainity and value of coefficient is almost equal to 0 so there is no relation**"
      ]
    },
    {
      "cell_type": "code",
      "metadata": {
        "id": "aE81fYyfbIzh",
        "colab_type": "code",
        "colab": {
          "base_uri": "https://localhost:8080/",
          "height": 35
        },
        "outputId": "37bce7bf-f97c-4aef-8bd2-74b1b9e33c29"
      },
      "source": [
        "scipy.stats.pearsonr(cdf['number_project'], cdf['Status'])"
      ],
      "execution_count": 228,
      "outputs": [
        {
          "output_type": "execute_result",
          "data": {
            "text/plain": [
              "(-0.023787185071774138, 0.0035752138709411125)"
            ]
          },
          "metadata": {
            "tags": []
          },
          "execution_count": 228
        }
      ]
    },
    {
      "cell_type": "code",
      "metadata": {
        "id": "GOjfzEddbRbQ",
        "colab_type": "code",
        "colab": {
          "base_uri": "https://localhost:8080/",
          "height": 35
        },
        "outputId": "5abb845d-3b3a-4f31-a734-6631b691d1bb"
      },
      "source": [
        "scipy.stats.pearsonr(cdf['average_montly_hours'], cdf['Status'])"
      ],
      "execution_count": 229,
      "outputs": [
        {
          "output_type": "execute_result",
          "data": {
            "text/plain": [
              "(-0.07128717878330126, 2.3113035567530147e-18)"
            ]
          },
          "metadata": {
            "tags": []
          },
          "execution_count": 229
        }
      ]
    },
    {
      "cell_type": "code",
      "metadata": {
        "id": "m3BdfKUub_RU",
        "colab_type": "code",
        "colab": {
          "base_uri": "https://localhost:8080/",
          "height": 35
        },
        "outputId": "1c04207e-f66b-4994-f0c0-4ebf56acccfc"
      },
      "source": [
        "scipy.stats.pearsonr(cdf['time_spend_company'], cdf['Status'])"
      ],
      "execution_count": 230,
      "outputs": [
        {
          "output_type": "execute_result",
          "data": {
            "text/plain": [
              "(-0.1448221749393853, 4.2076804576938825e-71)"
            ]
          },
          "metadata": {
            "tags": []
          },
          "execution_count": 230
        }
      ]
    },
    {
      "cell_type": "code",
      "metadata": {
        "id": "TIxfLy3QcPRD",
        "colab_type": "code",
        "colab": {
          "base_uri": "https://localhost:8080/",
          "height": 35
        },
        "outputId": "2ac245ce-aea2-4176-c8c3-ca16fd5ac9db"
      },
      "source": [
        "scipy.stats.pearsonr(cdf['Work_accident'], cdf['Status'])"
      ],
      "execution_count": 231,
      "outputs": [
        {
          "output_type": "execute_result",
          "data": {
            "text/plain": [
              "(0.15462163370513557, 6.613049400438366e-81)"
            ]
          },
          "metadata": {
            "tags": []
          },
          "execution_count": 231
        }
      ]
    },
    {
      "cell_type": "code",
      "metadata": {
        "id": "eM6bWQLrcWWL",
        "colab_type": "code",
        "colab": {
          "base_uri": "https://localhost:8080/",
          "height": 35
        },
        "outputId": "05a741e4-453a-4b1a-e910-890c9b490654"
      },
      "source": [
        "scipy.stats.pearsonr(cdf['promotion_last_5years'], cdf['Status'])"
      ],
      "execution_count": 232,
      "outputs": [
        {
          "output_type": "execute_result",
          "data": {
            "text/plain": [
              "(0.061788106579200294, 3.624047224141857e-14)"
            ]
          },
          "metadata": {
            "tags": []
          },
          "execution_count": 232
        }
      ]
    },
    {
      "cell_type": "markdown",
      "metadata": {
        "id": "pYQ1Jn7Jfv4T",
        "colab_type": "text"
      },
      "source": [
        "**From finding the above values we see that mostly all values have coefficient values somewhere around zero but not zero(so they compete in themselves) but here P-Value also matters which are acceptable for these attributes aas some have very prominent values such as values produced by columns like average monthly hours, time spent in the company etc. So instead of simply ignoring them we can use all of them to make our model, it would hardly make any difference in accuracy**"
      ]
    },
    {
      "cell_type": "code",
      "metadata": {
        "id": "TXNArWNWctNk",
        "colab_type": "code",
        "colab": {
          "base_uri": "https://localhost:8080/",
          "height": 283
        },
        "outputId": "dee908f1-8120-4789-d007-01019a058053"
      },
      "source": [
        "plt.plot(cdf['Status'], cdf['dept'])"
      ],
      "execution_count": 233,
      "outputs": [
        {
          "output_type": "execute_result",
          "data": {
            "text/plain": [
              "[<matplotlib.lines.Line2D at 0x7f2e5d250e48>]"
            ]
          },
          "metadata": {
            "tags": []
          },
          "execution_count": 233
        },
        {
          "output_type": "display_data",
          "data": {
            "image/png": "[encoded data removed]",
            "text/plain": [
              "<Figure size 432x288 with 1 Axes>"
            ]
          },
          "metadata": {
            "tags": [],
            "needs_background": "light"
          }
        }
      ]
    },
    {
      "cell_type": "code",
      "metadata": {
        "id": "POK207lmeuAD",
        "colab_type": "code",
        "colab": {
          "base_uri": "https://localhost:8080/",
          "height": 283
        },
        "outputId": "dca79c65-063f-433b-8a17-206914714232"
      },
      "source": [
        "plt.plot(cdf['salary'], cdf['Status'])"
      ],
      "execution_count": 234,
      "outputs": [
        {
          "output_type": "execute_result",
          "data": {
            "text/plain": [
              "[<matplotlib.lines.Line2D at 0x7f2e61e85400>]"
            ]
          },
          "metadata": {
            "tags": []
          },
          "execution_count": 234
        },
        {
          "output_type": "display_data",
          "data": {
            "image/png": "[encoded data removed]",
            "text/plain": [
              "<Figure size 432x288 with 1 Axes>"
            ]
          },
          "metadata": {
            "tags": [],
            "needs_background": "light"
          }
        }
      ]
    },
    {
      "cell_type": "markdown",
      "metadata": {
        "id": "Cklszb07g8MJ",
        "colab_type": "text"
      },
      "source": [
        "**Plot was made for these 2 attributes because Pearson's correlation cannot find values with columns having non numeric data**"
      ]
    },
    {
      "cell_type": "markdown",
      "metadata": {
        "id": "la5uF0FtTxli",
        "colab_type": "text"
      },
      "source": [
        "#**Feature Selection:**\n",
        "correlation didn't give us that much information as we expected so instead of that we can use feature selection method in which we'll find out which of the atributes/columns participate most in the change in the value of **Status** on an employee."
      ]
    },
    {
      "cell_type": "markdown",
      "metadata": {
        "id": "I1LD4AOjViXb",
        "colab_type": "text"
      },
      "source": [
        "###**Univariate Selection:**\n",
        "here we use some statistical tests to see which of the attributes/ columns have the highest or the most impact to the target variable. we'll impliment it by using the **scikit-learn library** with the SelectKBest class that can be used with a suite of different statistical tests to select a specific number of features.\n",
        "The example below uses the **chi-squared (chi²)** statistical test."
      ]
    },
    {
      "cell_type": "code",
      "metadata": {
        "id": "uwEpHyqscm9h",
        "colab_type": "code",
        "colab": {
          "base_uri": "https://localhost:8080/",
          "height": 87
        },
        "outputId": "529693de-7471-4a2c-935e-f88b38cfa8d7"
      },
      "source": [
        "cdf[\"salary\"].value_counts()"
      ],
      "execution_count": 235,
      "outputs": [
        {
          "output_type": "execute_result",
          "data": {
            "text/plain": [
              "low       7316\n",
              "medium    6446\n",
              "high      1237\n",
              "Name: salary, dtype: int64"
            ]
          },
          "metadata": {
            "tags": []
          },
          "execution_count": 235
        }
      ]
    },
    {
      "cell_type": "code",
      "metadata": {
        "id": "fpQ4c9stHkBH",
        "colab_type": "code",
        "colab": {}
      },
      "source": [
        "cdf[\"salary\"].replace({'low':1,'medium':2,'high':3}, inplace = True)"
      ],
      "execution_count": 236,
      "outputs": []
    },
    {
      "cell_type": "code",
      "metadata": {
        "id": "hKCMZhZEcoQu",
        "colab_type": "code",
        "colab": {
          "base_uri": "https://localhost:8080/",
          "height": 208
        },
        "outputId": "a51a56e2-bb21-4738-c78c-f594a2c38b7e"
      },
      "source": [
        "cdf[\"dept\"].value_counts()"
      ],
      "execution_count": 237,
      "outputs": [
        {
          "output_type": "execute_result",
          "data": {
            "text/plain": [
              "sales          4140\n",
              "technical      2720\n",
              "support        2229\n",
              "IT             1227\n",
              "product_mng     902\n",
              "marketing       858\n",
              "RandD           787\n",
              "accounting      767\n",
              "hr              739\n",
              "management      630\n",
              "Name: dept, dtype: int64"
            ]
          },
          "metadata": {
            "tags": []
          },
          "execution_count": 237
        }
      ]
    },
    {
      "cell_type": "code",
      "metadata": {
        "id": "6PiSkgCSIp0p",
        "colab_type": "code",
        "colab": {}
      },
      "source": [
        "cdf[\"dept\"].replace({'sales':1, 'technical':2, 'support':3,  'IT':4, 'product_mng':5, 'marketing':6,\n",
        "                     'RandD':7, 'accounting':8, 'hr':9, 'management':10}, inplace = True)"
      ],
      "execution_count": 238,
      "outputs": []
    },
    {
      "cell_type": "code",
      "metadata": {
        "id": "mxXcSK2sVrFP",
        "colab_type": "code",
        "colab": {
          "base_uri": "https://localhost:8080/",
          "height": 87
        },
        "outputId": "95ab0db9-8686-485b-acb7-1fef55da0a25"
      },
      "source": [
        "cdf.columns"
      ],
      "execution_count": 239,
      "outputs": [
        {
          "output_type": "execute_result",
          "data": {
            "text/plain": [
              "Index(['Emp ID', 'satisfaction_level', 'last_evaluation', 'number_project',\n",
              "       'average_montly_hours', 'time_spend_company', 'Work_accident',\n",
              "       'promotion_last_5years', 'dept', 'salary', 'Status'],\n",
              "      dtype='object')"
            ]
          },
          "metadata": {
            "tags": []
          },
          "execution_count": 239
        }
      ]
    },
    {
      "cell_type": "code",
      "metadata": {
        "id": "k66USOAQVw3d",
        "colab_type": "code",
        "colab": {
          "base_uri": "https://localhost:8080/",
          "height": 245
        },
        "outputId": "5f5298ef-2783-4769-fa92-0173b914533f"
      },
      "source": [
        "from sklearn.feature_selection import SelectKBest\n",
        "from sklearn.feature_selection import chi2\n",
        "\n",
        "cdf_bestx = cdf[['satisfaction_level', 'last_evaluation', 'number_project',\n",
        "       'average_montly_hours', 'time_spend_company', 'Work_accident',\n",
        "       'promotion_last_5years', 'dept', 'salary']]\n",
        "\n",
        "cdf.besty = cdf[['Status']]\n",
        "\n",
        "bestfeatures = SelectKBest(score_func=chi2, k=9)\n",
        "fit = bestfeatures.fit(cdf_bestx,cdf.besty)\n",
        "dfscores = pd.DataFrame(fit.scores_)\n",
        "dfcolumns = pd.DataFrame(cdf_bestx.columns)\n",
        "#concat two dataframes for better visualization \n",
        "featureScores = pd.concat([dfcolumns,dfscores],axis=1)\n",
        "featureScores.columns = ['Specs','Score']  #naming the dataframe columns\n",
        "print(featureScores.nlargest(9,'Score'))  #print 9 best features"
      ],
      "execution_count": 240,
      "outputs": [
        {
          "output_type": "stream",
          "text": [
            "                   Specs       Score\n",
            "3   average_montly_hours  945.588933\n",
            "5          Work_accident  306.737710\n",
            "0     satisfaction_level  228.193183\n",
            "4     time_spend_company  191.708547\n",
            "8                 salary   95.199142\n",
            "6  promotion_last_5years   56.044865\n",
            "7                   dept   24.831690\n",
            "2         number_project    3.390205\n",
            "1        last_evaluation    0.026464\n"
          ],
          "name": "stdout"
        },
        {
          "output_type": "stream",
          "text": [
            "/usr/local/lib/python3.6/dist-packages/ipykernel_launcher.py:8: UserWarning: Pandas doesn't allow columns to be created via a new attribute name - see https://pandas.pydata.org/pandas-docs/stable/indexing.html#attribute-access\n",
            "  \n"
          ],
          "name": "stderr"
        }
      ]
    },
    {
      "cell_type": "markdown",
      "metadata": {
        "id": "QTC1_FqNWHgJ",
        "colab_type": "text"
      },
      "source": [
        "###**Feature Importance:**\n",
        "Feature importance is an inbuilt class that comes with **Tree Based Classifiers** here we simply get the scores which determines/selects which of the attribute/column has the most affect to the change in the target variable."
      ]
    },
    {
      "cell_type": "code",
      "metadata": {
        "id": "GHYs-tl8W2R7",
        "colab_type": "code",
        "colab": {
          "base_uri": "https://localhost:8080/",
          "height": 89
        },
        "outputId": "8cd6762a-b5b7-446d-8d8d-df6372e5dc1d"
      },
      "source": [
        "from sklearn.ensemble import ExtraTreesClassifier\n",
        "import matplotlib.pyplot as plt\n",
        "model = ExtraTreesClassifier()\n",
        "model.fit(cdf_bestx,cdf.besty)\n",
        "print(model.feature_importances_) \n",
        "#use inbuilt class feature_importances of tree based classifiers"
      ],
      "execution_count": 241,
      "outputs": [
        {
          "output_type": "stream",
          "text": [
            "/usr/local/lib/python3.6/dist-packages/ipykernel_launcher.py:4: DataConversionWarning: A column-vector y was passed when a 1d array was expected. Please change the shape of y to (n_samples,), for example using ravel().\n",
            "  after removing the cwd from sys.path.\n"
          ],
          "name": "stderr"
        },
        {
          "output_type": "stream",
          "text": [
            "[0.25 0.14 0.24 0.14 0.17 0.02 0.   0.02 0.02]\n"
          ],
          "name": "stdout"
        }
      ]
    },
    {
      "cell_type": "code",
      "metadata": {
        "id": "kitfos5oXOMs",
        "colab_type": "code",
        "colab": {
          "base_uri": "https://localhost:8080/",
          "height": 265
        },
        "outputId": "efb7fb95-7352-44f2-c739-9b831f3eeda1"
      },
      "source": [
        "#plot graph of feature importances for better visualization\n",
        "feat_importances = pd.Series(model.feature_importances_, index=cdf_bestx.columns)\n",
        "feat_importances.nlargest(10).plot(kind='barh')\n",
        "plt.show()"
      ],
      "execution_count": 242,
      "outputs": [
        {
          "output_type": "display_data",
          "data": {
            "image/png": "[encoded data removed]",
            "text/plain": [
              "<Figure size 432x288 with 1 Axes>"
            ]
          },
          "metadata": {
            "tags": [],
            "needs_background": "light"
          }
        }
      ]
    },
    {
      "cell_type": "markdown",
      "metadata": {
        "id": "0AwphI4mhV4w",
        "colab_type": "text"
      },
      "source": [
        "#**Logistic regression:**\n",
        "It is the best machine learning technique used to predict the outcome where classification type is binary. \n",
        "\n",
        "###**Train/Test datasets:**"
      ]
    },
    {
      "cell_type": "code",
      "metadata": {
        "id": "wkpc959mYH_r",
        "colab_type": "code",
        "colab": {
          "base_uri": "https://localhost:8080/",
          "height": 87
        },
        "outputId": "2948fe10-0a0f-490d-e267-25de6a4339dc"
      },
      "source": [
        "cdf.columns"
      ],
      "execution_count": 243,
      "outputs": [
        {
          "output_type": "execute_result",
          "data": {
            "text/plain": [
              "Index(['Emp ID', 'satisfaction_level', 'last_evaluation', 'number_project',\n",
              "       'average_montly_hours', 'time_spend_company', 'Work_accident',\n",
              "       'promotion_last_5years', 'dept', 'salary', 'Status'],\n",
              "      dtype='object')"
            ]
          },
          "metadata": {
            "tags": []
          },
          "execution_count": 243
        }
      ]
    },
    {
      "cell_type": "code",
      "metadata": {
        "id": "PecdeuBuiUNd",
        "colab_type": "code",
        "colab": {
          "base_uri": "https://localhost:8080/",
          "height": 191
        },
        "outputId": "35f586c3-9f46-4932-f38b-9ddb7a5cb712"
      },
      "source": [
        "x = np.asarray(cdf[['satisfaction_level', 'last_evaluation', 'number_project',\n",
        "                    'average_montly_hours', 'time_spend_company', 'Work_accident',\n",
        "                     'promotion_last_5years','dept', 'salary']])\n",
        "x[0:5]"
      ],
      "execution_count": 244,
      "outputs": [
        {
          "output_type": "execute_result",
          "data": {
            "text/plain": [
              "array([[3.80e-01, 5.30e-01, 2.00e+00, 1.57e+02, 3.00e+00, 0.00e+00,\n",
              "        0.00e+00, 1.00e+00, 1.00e+00],\n",
              "       [8.00e-01, 8.60e-01, 5.00e+00, 2.62e+02, 6.00e+00, 0.00e+00,\n",
              "        0.00e+00, 1.00e+00, 2.00e+00],\n",
              "       [1.10e-01, 8.80e-01, 7.00e+00, 2.72e+02, 4.00e+00, 0.00e+00,\n",
              "        0.00e+00, 1.00e+00, 2.00e+00],\n",
              "       [7.20e-01, 8.70e-01, 5.00e+00, 2.23e+02, 5.00e+00, 0.00e+00,\n",
              "        0.00e+00, 1.00e+00, 1.00e+00],\n",
              "       [3.70e-01, 5.20e-01, 2.00e+00, 1.59e+02, 3.00e+00, 0.00e+00,\n",
              "        0.00e+00, 1.00e+00, 1.00e+00]])"
            ]
          },
          "metadata": {
            "tags": []
          },
          "execution_count": 244
        }
      ]
    },
    {
      "cell_type": "markdown",
      "metadata": {
        "id": "Jw5WSpkzEO7_",
        "colab_type": "text"
      },
      "source": [
        "**For the innitial stage I've used all the variables for X except Status(Y) and the unique Employee ID ofcourse. This is because the accuracy of model is differing from 0.1% after every stage of removal of an attribute/column So instead I'll be using all the 9 columns for to predict the data**"
      ]
    },
    {
      "cell_type": "code",
      "metadata": {
        "id": "66nD3eOYjGkd",
        "colab_type": "code",
        "colab": {
          "base_uri": "https://localhost:8080/",
          "height": 35
        },
        "outputId": "c565e1b4-97d2-4813-ccde-3925ea915a93"
      },
      "source": [
        "y = np.asarray(cdf['Status'])\n",
        "y[0:10000]"
      ],
      "execution_count": 245,
      "outputs": [
        {
          "output_type": "execute_result",
          "data": {
            "text/plain": [
              "array([0, 0, 0, ..., 1, 1, 1])"
            ]
          },
          "metadata": {
            "tags": []
          },
          "execution_count": 245
        }
      ]
    },
    {
      "cell_type": "code",
      "metadata": {
        "id": "X4UOGZpAkXUl",
        "colab_type": "code",
        "colab": {
          "base_uri": "https://localhost:8080/",
          "height": 52
        },
        "outputId": "ed5dc565-0bc3-4026-a765-d04253317b3f"
      },
      "source": [
        "from sklearn.model_selection import train_test_split\n",
        "x_train, x_test, y_train, y_test = train_test_split( x, y, test_size=0.2, random_state=4)\n",
        "print ('Train set:', x_train.shape,  y_train.shape)\n",
        "print ('Test set:', x_test.shape,  y_test.shape)"
      ],
      "execution_count": 246,
      "outputs": [
        {
          "output_type": "stream",
          "text": [
            "Train set: (11999, 9) (11999,)\n",
            "Test set: (3000, 9) (3000,)\n"
          ],
          "name": "stdout"
        }
      ]
    },
    {
      "cell_type": "markdown",
      "metadata": {
        "id": "4iTH7THxDkRq",
        "colab_type": "text"
      },
      "source": [
        "**We now divided the dataset into 4 different sets 2 for training and 2 for testing. Testing sets are 20% of the whole dataset while the other 80% is used to train the model. In train and test we have separated it with variables of X and Y where Y is the dependent variable while X is independent**"
      ]
    },
    {
      "cell_type": "markdown",
      "metadata": {
        "id": "rJjQuCXirqQT",
        "colab_type": "text"
      },
      "source": [
        "###**Creating the model:**"
      ]
    },
    {
      "cell_type": "code",
      "metadata": {
        "id": "tIzPsyDjoH29",
        "colab_type": "code",
        "colab": {
          "base_uri": "https://localhost:8080/",
          "height": 104
        },
        "outputId": "122e90dc-4ca1-47e0-ddc0-5f17227331c9"
      },
      "source": [
        "from sklearn.linear_model import LogisticRegression\n",
        "from sklearn.metrics import confusion_matrix\n",
        "LR = LogisticRegression(C=0.01, solver='liblinear').fit(x_train,y_train)\n",
        "LR"
      ],
      "execution_count": 247,
      "outputs": [
        {
          "output_type": "execute_result",
          "data": {
            "text/plain": [
              "LogisticRegression(C=0.01, class_weight=None, dual=False, fit_intercept=True,\n",
              "                   intercept_scaling=1, l1_ratio=None, max_iter=100,\n",
              "                   multi_class='auto', n_jobs=None, penalty='l2',\n",
              "                   random_state=None, solver='liblinear', tol=0.0001, verbose=0,\n",
              "                   warm_start=False)"
            ]
          },
          "metadata": {
            "tags": []
          },
          "execution_count": 247
        }
      ]
    },
    {
      "cell_type": "code",
      "metadata": {
        "id": "G3YoNVeIF1Jf",
        "colab_type": "code",
        "colab": {
          "base_uri": "https://localhost:8080/",
          "height": 104
        },
        "outputId": "59a4a267-6ca0-4835-ac0b-10e8c035d8f4"
      },
      "source": [
        "# we have the actual results as y_test but lets first see what output\n",
        "# does the model generates. here ynot is the value it generates using x_test\n",
        "ynot = LR.predict(x_test)\n",
        "ynot[0:100]"
      ],
      "execution_count": 248,
      "outputs": [
        {
          "output_type": "execute_result",
          "data": {
            "text/plain": [
              "array([1, 1, 1, 1, 1, 1, 1, 1, 1, 1, 1, 1, 1, 1, 1, 1, 1, 1, 1, 1, 1, 1,\n",
              "       1, 1, 1, 1, 1, 1, 1, 1, 1, 1, 1, 1, 1, 1, 1, 1, 1, 1, 1, 1, 1, 1,\n",
              "       1, 1, 1, 1, 1, 1, 1, 1, 1, 1, 1, 1, 1, 1, 1, 1, 1, 1, 1, 1, 1, 1,\n",
              "       1, 1, 1, 1, 1, 1, 1, 1, 1, 1, 1, 0, 1, 1, 1, 1, 1, 1, 1, 1, 1, 1,\n",
              "       1, 1, 1, 1, 1, 1, 1, 1, 1, 1, 1, 1])"
            ]
          },
          "metadata": {
            "tags": []
          },
          "execution_count": 248
        }
      ]
    },
    {
      "cell_type": "code",
      "metadata": {
        "id": "o31kYwLXJ-48",
        "colab_type": "code",
        "colab": {
          "base_uri": "https://localhost:8080/",
          "height": 139
        },
        "outputId": "1b2398fd-de15-4058-bf46-3cb212039433"
      },
      "source": [
        "ynot_prob = LR.predict_proba(x_test)\n",
        "ynot_prob"
      ],
      "execution_count": 249,
      "outputs": [
        {
          "output_type": "execute_result",
          "data": {
            "text/plain": [
              "array([[0.13, 0.87],\n",
              "       [0.41, 0.59],\n",
              "       [0.21, 0.79],\n",
              "       ...,\n",
              "       [0.34, 0.66],\n",
              "       [0.28, 0.72],\n",
              "       [0.26, 0.74]])"
            ]
          },
          "metadata": {
            "tags": []
          },
          "execution_count": 249
        }
      ]
    },
    {
      "cell_type": "markdown",
      "metadata": {
        "id": "vUttnhesKuzg",
        "colab_type": "text"
      },
      "source": [
        "The above code provides us with the probablity of each entry(x_test) to be **0(ie employee left)** which is at **0th** index of every row and **1(employee still there)** which is at **1st** index of every row"
      ]
    },
    {
      "cell_type": "markdown",
      "metadata": {
        "id": "kAl5O5DWLl3Q",
        "colab_type": "text"
      },
      "source": [
        "#**Model Evaluation(accuracy check):**"
      ]
    },
    {
      "cell_type": "markdown",
      "metadata": {
        "id": "iijL0QQLsef1",
        "colab_type": "text"
      },
      "source": [
        "###**Jaccard Index:**\n",
        "The Jaccard index, also known as Intersection over Union and the Jaccard similarity coefficient, is a statistic used for gauging the similarity and diversity of sample sets.\n",
        "In simple words we can define jaccard as the size of the intersection divided by the size of the union of two label sets. If the entire set of predicted labels for a sample strictly match with the true set of labels, then the subset accuracy is **1.0**; otherwise it is **0.0**."
      ]
    },
    {
      "cell_type": "code",
      "metadata": {
        "id": "8rZlFp1mLw-z",
        "colab_type": "code",
        "colab": {
          "base_uri": "https://localhost:8080/",
          "height": 89
        },
        "outputId": "8860e12a-1db3-4db5-a955-dc17c68f4a2b"
      },
      "source": [
        "from sklearn.metrics import jaccard_similarity_score\n",
        "jaccard_similarity_score(y_test, ynot)"
      ],
      "execution_count": 250,
      "outputs": [
        {
          "output_type": "stream",
          "text": [
            "/usr/local/lib/python3.6/dist-packages/sklearn/metrics/_classification.py:664: FutureWarning: jaccard_similarity_score has been deprecated and replaced with jaccard_score. It will be removed in version 0.23. This implementation has surprising behavior for binary and multiclass classification tasks.\n",
            "  FutureWarning)\n"
          ],
          "name": "stderr"
        },
        {
          "output_type": "execute_result",
          "data": {
            "text/plain": [
              "0.7726666666666666"
            ]
          },
          "metadata": {
            "tags": []
          },
          "execution_count": 250
        }
      ]
    },
    {
      "cell_type": "markdown",
      "metadata": {
        "id": "4QQ80LuTs-bQ",
        "colab_type": "text"
      },
      "source": [
        "###**log loss:**\n",
        "In logistic regression, the output can be the probability of employee staying in the company or not. This probability is a value between 0 and 1.\n",
        "Log loss(Logarithmic loss) measures the performance of a classifier where the predicted output is a probability value between **0 and 1**. \n",
        "\n",
        "**Lesser** the value of log loss better is the machine learning model. Goal should be of reaching the minimum of log loss for the model to perform well. Like a model with log loss as **0** will be having **100%** accuracy.\n"
      ]
    },
    {
      "cell_type": "code",
      "metadata": {
        "id": "2zAu9ABFPauS",
        "colab_type": "code",
        "colab": {
          "base_uri": "https://localhost:8080/",
          "height": 35
        },
        "outputId": "2a3ac8ef-a9d8-4fe4-a968-a4de22638c96"
      },
      "source": [
        "from sklearn.metrics import log_loss\n",
        "log_loss(y_test, ynot_prob)"
      ],
      "execution_count": 251,
      "outputs": [
        {
          "output_type": "execute_result",
          "data": {
            "text/plain": [
              "0.4477063106471834"
            ]
          },
          "metadata": {
            "tags": []
          },
          "execution_count": 251
        }
      ]
    },
    {
      "cell_type": "markdown",
      "metadata": {
        "id": "in59UDjE0Mkd",
        "colab_type": "text"
      },
      "source": [
        "###**Confusion Matrix:**\n",
        "It is the best way to look out for accuracy of a classifier."
      ]
    },
    {
      "cell_type": "code",
      "metadata": {
        "id": "Qqc6-6Pez1za",
        "colab_type": "code",
        "colab": {
          "base_uri": "https://localhost:8080/",
          "height": 52
        },
        "outputId": "cb07dd8f-8ff7-4f92-89a1-d8fab077fc55"
      },
      "source": [
        "from sklearn.metrics import classification_report, confusion_matrix\n",
        "import itertools\n",
        "def plot_confusion_matrix(cm, classes,\n",
        "                          normalize=False,\n",
        "                          title='Confusion matrix',\n",
        "                          cmap=plt.cm.Blues):\n",
        "    \"\"\"\n",
        "    This function prints and plots the confusion matrix.\n",
        "    Normalization can be applied by setting `normalize=True`.\n",
        "    \"\"\"\n",
        "    if normalize:\n",
        "        cm = cm.astype('float') / cm.sum(axis=1)[:, np.newaxis]\n",
        "        print(\"Normalized confusion matrix\")\n",
        "    else:\n",
        "        print('Confusion matrix, without normalization')\n",
        "\n",
        "    print(cm)\n",
        "\n",
        "    plt.imshow(cm, interpolation='nearest', cmap=cmap)\n",
        "    plt.title(title)\n",
        "    plt.colorbar()\n",
        "    tick_marks = np.arange(len(classes))\n",
        "    plt.xticks(tick_marks, classes, rotation=45)\n",
        "    plt.yticks(tick_marks, classes)\n",
        "\n",
        "    fmt = '.2f' if normalize else 'd'\n",
        "    thresh = cm.max() / 2.\n",
        "    for i, j in itertools.product(range(cm.shape[0]), range(cm.shape[1])):\n",
        "        plt.text(j, i, format(cm[i, j], fmt),\n",
        "                 horizontalalignment=\"center\",\n",
        "                 color=\"white\" if cm[i, j] > thresh else \"black\")\n",
        "\n",
        "    plt.tight_layout()\n",
        "    plt.ylabel('True label')\n",
        "    plt.xlabel('Predicted label')\n",
        "print(confusion_matrix(y_test, ynot, labels=[1,0]))"
      ],
      "execution_count": 252,
      "outputs": [
        {
          "output_type": "stream",
          "text": [
            "[[2211   76]\n",
            " [ 606  107]]\n"
          ],
          "name": "stdout"
        }
      ]
    },
    {
      "cell_type": "code",
      "metadata": {
        "id": "EfzroUjFz4IK",
        "colab_type": "code",
        "colab": {
          "base_uri": "https://localhost:8080/",
          "height": 363
        },
        "outputId": "67f5e2eb-05ce-4776-bebd-6c681bbdb5f0"
      },
      "source": [
        "# Compute confusion matrix\n",
        "cnf_matrix = confusion_matrix(y_test, ynot, labels=[1,0])\n",
        "np.set_printoptions(precision=2)\n",
        "\n",
        "\n",
        "# Plot non-normalized confusion matrix\n",
        "plt.figure()\n",
        "plot_confusion_matrix(cnf_matrix, classes=['Status=1','Status=0'],normalize= False,  title='Confusion matrix')"
      ],
      "execution_count": 253,
      "outputs": [
        {
          "output_type": "stream",
          "text": [
            "Confusion matrix, without normalization\n",
            "[[2211   76]\n",
            " [ 606  107]]\n"
          ],
          "name": "stdout"
        },
        {
          "output_type": "display_data",
          "data": {
            "image/png": "[encoded data removed]",
            "text/plain": [
              "<Figure size 432x288 with 2 Axes>"
            ]
          },
          "metadata": {
            "tags": [],
            "needs_background": "light"
          }
        }
      ]
    },
    {
      "cell_type": "markdown",
      "metadata": {
        "id": "zCgf_96W019C",
        "colab_type": "text"
      },
      "source": [
        "In the above diagram we see that the total number of employees having the value 1(that means they are still working in the company) in the test set would be total of 2287.\n",
        "This shows that 2211 employees who are actually there in the company are predicted correctly by the classifier. that means for these 2211 employees ynot value and y_test values are the same. while on the other hand y_test(actual label) of 76 employees were 1 but was predicted 0(wrong) by the model/classifier.\n",
        "Now on the other hand it went pretty wrong where in the 2nd row the correct prediction of the once who are not in the company anymore were 107 but actually wrong prediction was 606.\n",
        "\n",
        "**From this we come to a conclusion that the model was good enough in predicting the employees where the Status value is 1(i.e. employees who are still working in the company).**"
      ]
    },
    {
      "cell_type": "markdown",
      "metadata": {
        "id": "VO5QwIjI3PZg",
        "colab_type": "text"
      },
      "source": [
        "###**F1-Score:**\n",
        "last but not the least we see the F1-score.\n",
        "below is the formula:\n",
        "\n",
        "**Precision** = TP/(TP+FP)\n",
        "\n",
        "**Recall** = TP/(TP+FN)\n",
        "\n",
        "**F1** = (2x(precision x recall))/(precision + recall)\n",
        "\n",
        "here recall is the true positive rate while precision is a measure of the accuracy provided that a class label has been predicted.\n",
        "\n",
        "**(Least accuracy)0 < F1-Score < 1(Highest/most accurate)**"
      ]
    },
    {
      "cell_type": "code",
      "metadata": {
        "id": "867cbYwZ0G5i",
        "colab_type": "code",
        "colab": {
          "base_uri": "https://localhost:8080/",
          "height": 173
        },
        "outputId": "39ba78de-2aff-422d-95d1-9d82a02a1722"
      },
      "source": [
        "print (classification_report(y_test, ynot))"
      ],
      "execution_count": 254,
      "outputs": [
        {
          "output_type": "stream",
          "text": [
            "              precision    recall  f1-score   support\n",
            "\n",
            "           0       0.58      0.15      0.24       713\n",
            "           1       0.78      0.97      0.87      2287\n",
            "\n",
            "    accuracy                           0.77      3000\n",
            "   macro avg       0.68      0.56      0.55      3000\n",
            "weighted avg       0.74      0.77      0.72      3000\n",
            "\n"
          ],
          "name": "stdout"
        }
      ]
    },
    {
      "cell_type": "markdown",
      "metadata": {
        "id": "ftnJixPt5fId",
        "colab_type": "text"
      },
      "source": [
        "**Before selecting all the attributes to be the part of making a model, choosing which once to consider and which once not to consider was a challenging task in itself. But what is not being shown in this file is that I tried to make the model with more accuracy and removing or adding any perticular attribute/column was resulting in 0.1% change in accuracy which was not that significant so I just selected all the columns except the Status(Y) and the Employee ID.**"
      ]
    }
  ]
}